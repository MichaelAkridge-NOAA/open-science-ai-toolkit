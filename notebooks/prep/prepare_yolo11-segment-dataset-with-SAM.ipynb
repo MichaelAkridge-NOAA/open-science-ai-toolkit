{
 "cells": [
  {
   "cell_type": "code",
   "execution_count": null,
   "id": "e65fc1f7-8363-404e-aa41-4c97c671ca9e",
   "metadata": {},
   "outputs": [],
   "source": [
    "# Import the auto_annotate function from the Ultralytics data annotator module\n",
    "from ultralytics.data.annotator import auto_annotate\n",
    "\n",
    "# Automatically annotate images in the specified dataset\n",
    "# data: Path to the image dataset where annotations will be generated (in this case, a training dataset)\n",
    "# det_model: Path to the detection model file (e.g., 'best.pt' for the pre-trained detection model)\n",
    "# sam_model: Path to the SAM model file (e.g., 'sam_b.pt' for the segmentation model)\n",
    "auto_annotate(\n",
    "    data=\"./fish_dataset/images/train\",  # Path to the training image folder\n",
    "    det_model=\"best.pt\",                 # Detection model file used for annotations\n",
    "    sam_model=\"sam_b.pt\"                 # Segmentation model file used in the annotation process\n",
    ")\n"
   ]
  }
 ],
 "metadata": {
  "kernelspec": {
   "display_name": "Python 3 (ipykernel)",
   "language": "python",
   "name": "python3"
  },
  "language_info": {
   "codemirror_mode": {
    "name": "ipython",
    "version": 3
   },
   "file_extension": ".py",
   "mimetype": "text/x-python",
   "name": "python",
   "nbconvert_exporter": "python",
   "pygments_lexer": "ipython3",
   "version": "3.10.15"
  }
 },
 "nbformat": 4,
 "nbformat_minor": 5
}

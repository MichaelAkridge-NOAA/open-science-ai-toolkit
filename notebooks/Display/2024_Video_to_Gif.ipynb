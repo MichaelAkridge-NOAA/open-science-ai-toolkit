{
 "cells": [
  {
   "cell_type": "code",
   "execution_count": null,
   "metadata": {
    "colab": {
     "base_uri": "https://localhost:8080/"
    },
    "id": "9z6-acw-ugnl",
    "outputId": "fd33c6bb-56bb-4397-cc94-d044836f15c7"
   },
   "outputs": [
    {
     "name": "stdout",
     "output_type": "stream",
     "text": [
      "Reading package lists... Done\n",
      "Building dependency tree... Done\n",
      "Reading state information... Done\n",
      "ffmpeg is already the newest version (7:4.4.2-0ubuntu0.22.04.1).\n",
      "0 upgraded, 0 newly installed, 0 to remove and 49 not upgraded.\n"
     ]
    }
   ],
   "source": [
    "#install libary \n",
    "!apt-get install ffmpeg"
   ]
  },
  {
   "cell_type": "code",
   "execution_count": null,
   "metadata": {
    "colab": {
     "base_uri": "https://localhost:8080/"
    },
    "id": "xfp3uu7ADHfn",
    "outputId": "dfd21653-1f2a-4eaf-b273-f57922350a60"
   },
   "outputs": [],
   "source": [
    "#frames to gif\n",
    "!unzip -q /content/output_overlays.zip -d /content/output\n",
    "!ffmpeg -framerate 10 -i /content/%05d_depth_overlay.png -loop 0 output.gif"
   ]
  },
  {
   "cell_type": "code",
   "execution_count": null,
   "metadata": {
    "colab": {
     "base_uri": "https://localhost:8080/"
    },
    "id": "WF8l50Z2DV9A",
    "outputId": "f494c7cb-8cc8-48dc-b91f-315b25e22819"
   },
   "outputs": [],
   "source": [
    "#frames to video\n",
    "!ffmpeg -framerate 10 -i /content/%05d_depth_overlay.png -c:v libx264 -pix_fmt yuv420p output.mp4"
   ]
  },
  {
   "cell_type": "code",
   "execution_count": null,
   "metadata": {
    "colab": {
     "base_uri": "https://localhost:8080/"
    },
    "id": "NSDb4jt7ujAR",
    "outputId": "2c591191-9687-4d99-b117-c92fdbbe1a33"
   },
   "outputs": [],
   "source": [
    "#video to gif\n",
    "!ffmpeg -i /content/Media1.mp4 -vf \"scale=iw*0.75:ih*0.75\" /content/processing.gif"
   ]
  }
 ],
 "metadata": {
  "colab": {
   "provenance": []
  },
  "kernelspec": {
   "display_name": "Python 3 (ipykernel)",
   "language": "python",
   "name": "python3"
  },
  "language_info": {
   "codemirror_mode": {
    "name": "ipython",
    "version": 3
   },
   "file_extension": ".py",
   "mimetype": "text/x-python",
   "name": "python",
   "nbconvert_exporter": "python",
   "pygments_lexer": "ipython3",
   "version": "3.10.15"
  }
 },
 "nbformat": 4,
 "nbformat_minor": 4
}
